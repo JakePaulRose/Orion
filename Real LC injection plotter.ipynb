{
 "cells": [
  {
   "cell_type": "code",
   "execution_count": 1,
   "metadata": {},
   "outputs": [],
   "source": [
    "import numpy as np\n",
    "import matplotlib.pyplot as plt\n",
    "from astropy.io import fits\n",
    "from astropy.stats import sigma_clip\n",
    "from transitleastsquares import (\n",
    "    transitleastsquares,\n",
    "    cleaned_array,\n",
    "    catalog_info,\n",
    "    transit_mask\n",
    "    )\n",
    "import pandas as pd\n",
    "from OrionPY import Tools\n",
    "import batman\n",
    "\n",
    "\n",
    "\n",
    "\n",
    "\n"
   ]
  },
  {
   "cell_type": "code",
   "execution_count": 2,
   "metadata": {},
   "outputs": [
    {
     "name": "stderr",
     "output_type": "stream",
     "text": [
      "/home/jpr64/orion/Orion_main/OrionPY.py:71: RuntimeWarning: invalid value encountered in log10\n",
      "  self.mag = -2.5*np.log10(self.flux)\n"
     ]
    }
   ],
   "source": [
    "# Loading in the original data for obj_ids and rebinned data\n",
    "hdu = Tools()\n",
    "data = np.load('/data/jpr64/rebinned_data_test.npy', allow_pickle = True)\n",
    "\n",
    "\n",
    "\n"
   ]
  },
  {
   "cell_type": "code",
   "execution_count": 5,
   "metadata": {},
   "outputs": [
    {
     "name": "stdout",
     "output_type": "stream",
     "text": [
      "8925 8925\n"
     ]
    },
    {
     "name": "stderr",
     "output_type": "stream",
     "text": [
      "/home/jpr64/.conda/envs/orion_jake/lib/python3.7/site-packages/numpy/core/_asarray.py:102: VisibleDeprecationWarning: Creating an ndarray from ragged nested sequences (which is a list-or-tuple of lists-or-tuples-or ndarrays with different lengths or shapes) is deprecated. If you meant to do this, you must specify 'dtype=object' when creating the ndarray.\n",
      "  return array(a, dtype, copy=False, order=order)\n"
     ]
    }
   ],
   "source": [
    "# Putting data into lists\n",
    "lc = [x for x in data]\n",
    "obj_ids = [x for x in hdu.hdu[1].data['obj_id']]\n",
    "\n",
    "idx = [i for i, j  in enumerate(lc) if not j.shape == (0,3)]\n",
    "\n",
    "lc = [lc[i] for i in idx]\n",
    "obj_ids = [obj_ids[i] for i in idx]\n"
   ]
  },
  {
   "cell_type": "code",
   "execution_count": null,
   "metadata": {},
   "outputs": [],
   "source": [
    "def magnitude(lc):\n",
    "    return -2.5* np.log10(lc[:,1]) + 20.2\n",
    "def rms(magnitudes):\n",
    "    return np.sqrt(np.mean(np.square(magnitudes - np.nanmean(magnitudes))))\n",
    "\n",
    "\n"
   ]
  },
  {
   "cell_type": "code",
   "execution_count": null,
   "metadata": {},
   "outputs": [],
   "source": [
    "# Calculate magnitudes and rms values for selction\n",
    "\n",
    "magnitudes = [magnitude(x) for x in lc]\n",
    "mean_mag = [np.nanmean(x) for x in magnitudes]\n",
    "rms_mag = [rms(x) for x in magnitudes]\n",
    "\n",
    "mean_mag = np.array(mean_mag)\n",
    "rms_mag = np.array(rms_mag)\n"
   ]
  },
  {
   "cell_type": "code",
   "execution_count": null,
   "metadata": {},
   "outputs": [],
   "source": [
    "rms_mag"
   ]
  },
  {
   "cell_type": "code",
   "execution_count": null,
   "metadata": {},
   "outputs": [],
   "source": [
    "# Selecting a suitably quiet lightcurve\n",
    "idx_2 = np.where(rms_mag < 10**(-2))[0]\n",
    "\n",
    "lc_low  = [lc[x] for x in idx_2]\n",
    "obj_ids_low = [obj_ids[x] for x in idx_2]\n",
    "magnitudes_low = [magnitudes[x] for x in idx_2]\n",
    "rms_mag = [rms_mag[x] for x in idx_2]\n"
   ]
  },
  {
   "cell_type": "code",
   "execution_count": null,
   "metadata": {},
   "outputs": [],
   "source": []
  },
  {
   "cell_type": "code",
   "execution_count": null,
   "metadata": {},
   "outputs": [],
   "source": [
    "object_num = 1045\n",
    "\n",
    "\n",
    "test = lc_low[object_num]\n",
    "flux = test[:,1]\n",
    "flux /= np.nanmean(flux)\n",
    "time = test[:,0]\n",
    "print(rms_mag[object_num])\n"
   ]
  },
  {
   "cell_type": "code",
   "execution_count": null,
   "metadata": {},
   "outputs": [],
   "source": [
    "print(rms)"
   ]
  },
  {
   "cell_type": "code",
   "execution_count": null,
   "metadata": {},
   "outputs": [],
   "source": [
    "plt.scatter(time, flux)"
   ]
  },
  {
   "cell_type": "code",
   "execution_count": null,
   "metadata": {},
   "outputs": [],
   "source": [
    "# Celaning of nan and negative values\n",
    "time, flux = cleaned_array(time, flux)\n",
    "\n",
    "# Use batman to create transits\n",
    "ma = batman.TransitParams()\n",
    "ma.t0 = time[0]  # time of inferior conjunction; first transit is X days after start\n",
    "ma.per = 7.69 # orbital period\n",
    "ma.rp = 0.1  # 1% dip planet radius (in units of stellar radii)\n",
    "ma.a = 8.47 # semi-major axis (in units of stellar radii)\n",
    "ma.inc = 90  # orbital inclination (in degrees)\n",
    "ma.ecc = 0  # eccentricity\n",
    "ma.w = 90  # longitude of periastron (in degrees)\n",
    "ma.u = []  # limb darkening coefficients\n",
    "ma.limb_dark = \"uniform\"  # limb darkening model\n",
    "m = batman.TransitModel(ma, time)  # initializes model\n",
    "synthetic_signal = m.light_curve(ma)  # calculates light curve\n",
    "\n",
    "# Sigma clip the data and then run the TLS search\n",
    "flux_transit = flux * synthetic_signal \n",
    "flux_sigma_clipped = sigma_clip(flux_transit, sigma_lower = float('inf'), sigma_upper= 4)\n",
    "\n",
    "model = transitleastsquares(time, flux_sigma_clipped)\n",
    "results = model.power(period_min = 1, period_max = 11, limb_dark = 'linear', u =[0], use_threads = 4)\n",
    "    \n",
    "results[\"obj_id\"] = obj_ids[object_num]\n",
    "\n"
   ]
  },
  {
   "cell_type": "code",
   "execution_count": null,
   "metadata": {},
   "outputs": [],
   "source": [
    "plt.plot(time, flux_sigma_clipped)\n",
    "\n"
   ]
  },
  {
   "cell_type": "code",
   "execution_count": null,
   "metadata": {},
   "outputs": [],
   "source": [
    "print('Period', format(results.period, '.5f'), 'd')\n",
    "print(len(results.transit_times), 'transit times in time series:', \\\n",
    "        ['{0:0.5f}'.format(i) for i in results.transit_times])\n",
    "print('Transit depth', format(results.depth, '.5f'))\n",
    "print('Best duration (days)', format(results.duration, '.5f'))\n",
    "print('Signal detection efficiency (SDE):', results.SDE)\n",
    "\n",
    "\n",
    "\n",
    "\n"
   ]
  },
  {
   "cell_type": "code",
   "execution_count": null,
   "metadata": {},
   "outputs": [],
   "source": [
    "plt.figure()\n",
    "ax = plt.gca()\n",
    "ax.axvline(results.period, alpha=0.4, lw=3)\n",
    "for n in range(2, 10):\n",
    "    ax.axvline(n*results.period, alpha=0.4, lw=1, linestyle=\"dashed\")\n",
    "    ax.axvline(results.period / n, alpha=0.4, lw=1, linestyle=\"dashed\")\n",
    "plt.xlim(np.min(results.periods), np.max(results.periods))\n",
    "plt.ylabel(r'SDE')\n",
    "plt.xlabel('Period (days)')\n",
    "plt.plot(results.periods, results.power, color='black', lw=0.5);"
   ]
  },
  {
   "cell_type": "code",
   "execution_count": null,
   "metadata": {},
   "outputs": [],
   "source": [
    "plt.figure()\n",
    "plt.plot(\n",
    "    results.model_folded_phase,\n",
    "    results.model_folded_model,\n",
    "    color='red')\n",
    "plt.scatter(\n",
    "    results.folded_phase,\n",
    "    results.folded_y,\n",
    "    color='blue',\n",
    "    s=10,\n",
    "    alpha=0.5,\n",
    "    zorder=2)\n",
    "plt.xlim(0, 1)\n",
    "plt.xlabel('Phase')\n",
    "plt.ylabel('Relative flux');\n"
   ]
  },
  {
   "cell_type": "code",
   "execution_count": null,
   "metadata": {},
   "outputs": [],
   "source": []
  }
 ],
 "metadata": {
  "kernelspec": {
   "display_name": "orion_jake",
   "language": "python",
   "name": "orion_jake"
  },
  "language_info": {
   "codemirror_mode": {
    "name": "ipython",
    "version": 3
   },
   "file_extension": ".py",
   "mimetype": "text/x-python",
   "name": "python",
   "nbconvert_exporter": "python",
   "pygments_lexer": "ipython3",
   "version": "3.7.8"
  }
 },
 "nbformat": 4,
 "nbformat_minor": 4
}
