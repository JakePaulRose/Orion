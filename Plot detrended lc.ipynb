{
 "cells": [
  {
   "cell_type": "code",
   "execution_count": 1,
   "metadata": {},
   "outputs": [],
   "source": [
    "import numpy as np\n",
    "import matplotlib.pyplot as plt\n",
    "from astropy.io import fits\n",
    "import bin_tools\n",
    "from wotan import flatten\n",
    "import time\n",
    "from OrionPY import OrionTools, Tools\n",
    "from multiprocessing import Pool"
   ]
  },
  {
   "cell_type": "code",
   "execution_count": 2,
   "metadata": {},
   "outputs": [],
   "source": [
    "### REBINNED - Load data as numpy array \n",
    "data = np.load('/data/jpr64/rebinned_data_test.npy', allow_pickle = True)\n",
    "\n",
    "\n"
   ]
  },
  {
   "cell_type": "code",
   "execution_count": 3,
   "metadata": {},
   "outputs": [
    {
     "name": "stdout",
     "output_type": "stream",
     "text": [
      "8913\n"
     ]
    },
    {
     "name": "stderr",
     "output_type": "stream",
     "text": [
      "/home/jpr64/.conda/envs/orion_jake/lib/python3.7/site-packages/numpy/core/_asarray.py:102: VisibleDeprecationWarning: Creating an ndarray from ragged nested sequences (which is a list-or-tuple of lists-or-tuples-or ndarrays with different lengths or shapes) is deprecated. If you meant to do this, you must specify 'dtype=object' when creating the ndarray.\n",
      "  return array(a, dtype, copy=False, order=order)\n"
     ]
    }
   ],
   "source": [
    "### Remove nan and negative flux values\n",
    "\n",
    "lc = []\n",
    "\n",
    "for i in data:\n",
    "    idx = (~np.isnan(i[:,1])) & (i[:,1] > 0.)\n",
    "    i = i[idx]\n",
    "    lc.append(i)\n",
    "\n",
    "lc = [x for x in lc if not x.shape == (0,3)]\n",
    "print(np.size(lc))\n",
    "index_keep = [i for i, j in enumerate(lc) if not j.shape == (0,3) ]"
   ]
  },
  {
   "cell_type": "code",
   "execution_count": 4,
   "metadata": {},
   "outputs": [],
   "source": [
    "### Detrend with Lowess\n",
    "\n",
    "def detrend(lightcurve):\n",
    "    flatten_lc, trend_lc = flatten(\n",
    "        lightcurve[:,0],                 # Array of time values\n",
    "        lightcurve[:,1],                 # Array of flux values\n",
    "#         method='lowess',\n",
    "        window_length = 0.1 ,    # The length of the filter window in units of ``time``\n",
    "        break_tolerance = 0.5,    # Split into segments at breaks longer than that\n",
    "        return_trend=True,    # Return trend and flattened light curve\n",
    "        )\n",
    "    return np.array((flatten_lc, trend_lc))"
   ]
  },
  {
   "cell_type": "code",
   "execution_count": 5,
   "metadata": {},
   "outputs": [
    {
     "name": "stdout",
     "output_type": "stream",
     "text": [
      "CPU times: user 1.82 s, sys: 5.24 s, total: 7.06 s\n",
      "Wall time: 26.2 s\n"
     ]
    }
   ],
   "source": [
    "%%time\n",
    "\n",
    "### Generates detrended lc\n",
    "\n",
    "\n",
    "if __name__ == '__main__':\n",
    "    with Pool(50) as p:\n",
    "        lc_detrend_2 = p.map(detrend, lc)\n",
    "        p.close()\n"
   ]
  },
  {
   "cell_type": "code",
   "execution_count": 35,
   "metadata": {},
   "outputs": [],
   "source": [
    "index = 3400\n",
    "\n",
    "original_time = lc[index][:,0]\n",
    "original_flux = lc[index][:,1]\n",
    "detrend_flux = lc_detrend_2[index][1]"
   ]
  },
  {
   "cell_type": "code",
   "execution_count": 36,
   "metadata": {},
   "outputs": [
    {
     "data": {
      "image/png": "[encoded data removed]",
      "text/plain": [
       "<Figure size 432x288 with 1 Axes>"
      ]
     },
     "metadata": {
      "needs_background": "light"
     },
     "output_type": "display_data"
    }
   ],
   "source": [
    "plt.scatter(original_time, original_flux)\n",
    "plt.scatter(original_time, detrend_flux)\n",
    "plt.show()"
   ]
  },
  {
   "cell_type": "markdown",
   "metadata": {},
   "source": [
    "#### "
   ]
  }
 ],
 "metadata": {
  "kernelspec": {
   "display_name": "orion_jake",
   "language": "python",
   "name": "orion_jake"
  },
  "language_info": {
   "codemirror_mode": {
    "name": "ipython",
    "version": 3
   },
   "file_extension": ".py",
   "mimetype": "text/x-python",
   "name": "python",
   "nbconvert_exporter": "python",
   "pygments_lexer": "ipython3",
   "version": "3.7.8"
  }
 },
 "nbformat": 4,
 "nbformat_minor": 4
}
