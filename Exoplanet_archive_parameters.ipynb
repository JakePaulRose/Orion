{
 "cells": [
  {
   "cell_type": "code",
   "execution_count": 1,
   "metadata": {},
   "outputs": [],
   "source": [
    "import numpy as np\n",
    "import pandas as pd\n",
    "import matplotlib.pyplot as plt\n",
    "pd.set_option('display.max_columns', None)\n"
   ]
  },
  {
   "cell_type": "code",
   "execution_count": 3,
   "metadata": {},
   "outputs": [],
   "source": [
    "df = pd.read_csv('~/orion/Orion_main/DATA/exoplanet_archive.csv', skiprows = 49)"
   ]
  },
  {
   "cell_type": "code",
   "execution_count": 4,
   "metadata": {},
   "outputs": [],
   "source": [
    "is_confirmed_transit = (df['soltype'] == 'Published Confirmed') & (df['discoverymethod'] == 'Transit')\n",
    "df_transit = df[is_confirmed_transit]\n",
    "\n",
    "\n"
   ]
  },
  {
   "cell_type": "code",
   "execution_count": 5,
   "metadata": {},
   "outputs": [],
   "source": [
    "df_transit_jup = df_transit[df_transit.pl_bmassj >= 1]\n"
   ]
  },
  {
   "cell_type": "code",
   "execution_count": 6,
   "metadata": {},
   "outputs": [],
   "source": [
    "df_hot_jup = df_transit_jup[df_transit_jup.pl_orbper < 10]"
   ]
  },
  {
   "cell_type": "code",
   "execution_count": 7,
   "metadata": {},
   "outputs": [],
   "source": [
    "stellar_rad = df_hot_jup['st_rad'] # In units of solar radius\n",
    "semi_major = df_hot_jup['pl_orbsmax'] # In units of Au\n",
    "\n",
    "# Converting to one unit system (Au)\n",
    "stellar_rad *= 0.0046524726"
   ]
  },
  {
   "cell_type": "code",
   "execution_count": 8,
   "metadata": {},
   "outputs": [
    {
     "data": {
      "text/plain": [
       "8.231460002736297"
      ]
     },
     "execution_count": 8,
     "metadata": {},
     "output_type": "execute_result"
    }
   ],
   "source": [
    "ratio = semi_major / stellar_rad\n",
    "ratio.mean()"
   ]
  },
  {
   "cell_type": "code",
   "execution_count": 9,
   "metadata": {},
   "outputs": [
    {
     "data": {
      "text/plain": [
       "['pl_name',\n",
       " 'hostname',\n",
       " 'default_flag',\n",
       " 'sy_snum',\n",
       " 'sy_pnum',\n",
       " 'discoverymethod',\n",
       " 'disc_year',\n",
       " 'disc_facility',\n",
       " 'soltype',\n",
       " 'pl_controv_flag',\n",
       " 'pl_refname',\n",
       " 'pl_orbper',\n",
       " 'pl_orbsmax',\n",
       " 'pl_rade',\n",
       " 'pl_radj',\n",
       " 'pl_bmasse',\n",
       " 'pl_bmassj',\n",
       " 'pl_bmassprov',\n",
       " 'pl_orbeccen',\n",
       " 'pl_insol',\n",
       " 'pl_eqt',\n",
       " 'ttv_flag',\n",
       " 'pl_trandur',\n",
       " 'st_refname',\n",
       " 'st_spectype',\n",
       " 'st_teff',\n",
       " 'st_rad',\n",
       " 'st_mass',\n",
       " 'st_met',\n",
       " 'st_metratio',\n",
       " 'st_logg',\n",
       " 'sy_refname',\n",
       " 'rastr',\n",
       " 'ra',\n",
       " 'decstr',\n",
       " 'dec',\n",
       " 'sy_dist',\n",
       " 'sy_vmag',\n",
       " 'sy_kmag',\n",
       " 'sy_gaiamag',\n",
       " 'rowupdate',\n",
       " 'pl_pubdate',\n",
       " 'releasedate']"
      ]
     },
     "execution_count": 9,
     "metadata": {},
     "output_type": "execute_result"
    }
   ],
   "source": [
    "list(df_transit)"
   ]
  },
  {
   "cell_type": "code",
   "execution_count": null,
   "metadata": {},
   "outputs": [],
   "source": [
    "df_hot_jup['st_rad'].mean()\n"
   ]
  },
  {
   "cell_type": "code",
   "execution_count": 10,
   "metadata": {},
   "outputs": [
    {
     "data": {
      "text/plain": [
       "3.0269550996015933"
      ]
     },
     "execution_count": 10,
     "metadata": {},
     "output_type": "execute_result"
    }
   ],
   "source": [
    "df_hot_jup['pl_trandur'].mean()"
   ]
  },
  {
   "cell_type": "code",
   "execution_count": null,
   "metadata": {},
   "outputs": [],
   "source": []
  }
 ],
 "metadata": {
  "kernelspec": {
   "display_name": "orion_jake",
   "language": "python",
   "name": "orion_jake"
  },
  "language_info": {
   "codemirror_mode": {
    "name": "ipython",
    "version": 3
   },
   "file_extension": ".py",
   "mimetype": "text/x-python",
   "name": "python",
   "nbconvert_exporter": "python",
   "pygments_lexer": "ipython3",
   "version": "3.7.8"
  }
 },
 "nbformat": 4,
 "nbformat_minor": 4
}
