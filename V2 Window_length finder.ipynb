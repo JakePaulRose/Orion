{
 "cells": [
  {
   "cell_type": "code",
   "execution_count": 1,
   "metadata": {},
   "outputs": [],
   "source": [
    "import numpy as np\n",
    "import matplotlib.pyplot as plt\n",
    "from astropy.io import fits\n",
    "from astropy.stats import sigma_clip\n",
    "from transitleastsquares import (\n",
    "    transitleastsquares,\n",
    "    cleaned_array,\n",
    "    catalog_info,\n",
    "    transit_mask\n",
    "    )\n",
    "from wotan import flatten\n",
    "import pandas as pd\n",
    "from OrionPY import Tools\n",
    "import batman\n",
    "from wotan import slide_clip\n"
   ]
  },
  {
   "cell_type": "code",
   "execution_count": 2,
   "metadata": {},
   "outputs": [
    {
     "name": "stderr",
     "output_type": "stream",
     "text": [
      "/home/jpr64/orion/Orion_main/OrionPY.py:71: RuntimeWarning: invalid value encountered in log10\n",
      "  self.mag = -2.5*np.log10(self.flux)\n"
     ]
    }
   ],
   "source": [
    "# Loading in the original data for obj_ids and rebinned data\n",
    "hdu = Tools()\n",
    "data = np.load('/data/jpr64/rebinned_data_test.npy', allow_pickle = True)\n",
    "\n",
    "\n",
    "\n"
   ]
  },
  {
   "cell_type": "code",
   "execution_count": 3,
   "metadata": {},
   "outputs": [],
   "source": [
    "# Putting data into lists\n",
    "lc = [x for x in data]\n",
    "obj_ids = [x for x in hdu.hdu[1].data['obj_id']]\n",
    "\n",
    "idx = [i for i, j  in enumerate(lc) if not j.shape == (0,3)]\n",
    "\n",
    "lc = [lc[i] for i in idx]\n",
    "obj_ids = [obj_ids[i] for i in idx]\n",
    "\n",
    "\n"
   ]
  },
  {
   "cell_type": "code",
   "execution_count": 63,
   "metadata": {},
   "outputs": [],
   "source": [
    "# Loading data of specific object\n",
    "\n",
    "object_index = 2304\n",
    "\n",
    "# object_id = '001173'\n",
    "# object_index = obj_ids.index(object_id)\n",
    "\n",
    "test = lc[object_index]\n",
    "flux = test[:,1]\n",
    "time = test[:,0]"
   ]
  },
  {
   "cell_type": "code",
   "execution_count": 64,
   "metadata": {},
   "outputs": [
    {
     "data": {
      "text/plain": [
       "<matplotlib.collections.PathCollection at 0x7f9ede88ad90>"
      ]
     },
     "execution_count": 64,
     "metadata": {},
     "output_type": "execute_result"
    },
    {
     "data": {
      "image/png": "[encoded data removed]",
      "text/plain": [
       "<Figure size 432x288 with 1 Axes>"
      ]
     },
     "metadata": {
      "needs_background": "light"
     },
     "output_type": "display_data"
    }
   ],
   "source": [
    "plt.scatter(time, flux/np.nanmean(flux), s= 0.5)"
   ]
  },
  {
   "cell_type": "code",
   "execution_count": 7,
   "metadata": {},
   "outputs": [
    {
     "name": "stderr",
     "output_type": "stream",
     "text": [
      "/home/jpr64/.conda/envs/orion_jake/lib/python3.7/site-packages/ipykernel_launcher.py:3: RuntimeWarning: invalid value encountered in log10\n",
      "  This is separate from the ipykernel package so we can avoid doing imports until\n",
      "/home/jpr64/.conda/envs/orion_jake/lib/python3.7/site-packages/ipykernel_launcher.py:9: RuntimeWarning: Mean of empty slice\n",
      "  if __name__ == '__main__':\n",
      "/home/jpr64/.conda/envs/orion_jake/lib/python3.7/site-packages/ipykernel_launcher.py:5: RuntimeWarning: Mean of empty slice\n",
      "  \"\"\"\n"
     ]
    },
    {
     "ename": "IndexError",
     "evalue": "tuple index out of range",
     "output_type": "error",
     "traceback": [
      "\u001b[0;31m---------------------------------------------------------------------------\u001b[0m",
      "\u001b[0;31mIndexError\u001b[0m                                Traceback (most recent call last)",
      "\u001b[0;32m<ipython-input-7-c8524efc599f>\u001b[0m in \u001b[0;36m<module>\u001b[0;34m\u001b[0m\n\u001b[1;32m     13\u001b[0m \u001b[0mrms_mag\u001b[0m \u001b[0;34m=\u001b[0m \u001b[0mnp\u001b[0m\u001b[0;34m.\u001b[0m\u001b[0marray\u001b[0m\u001b[0;34m(\u001b[0m\u001b[0mrms_mag\u001b[0m\u001b[0;34m)\u001b[0m\u001b[0;34m\u001b[0m\u001b[0;34m\u001b[0m\u001b[0m\n\u001b[1;32m     14\u001b[0m \u001b[0;34m\u001b[0m\u001b[0m\n\u001b[0;32m---> 15\u001b[0;31m \u001b[0mnp\u001b[0m\u001b[0;34m.\u001b[0m\u001b[0mwhere\u001b[0m\u001b[0;34m(\u001b[0m\u001b[0mrms_mag\u001b[0m \u001b[0;34m<\u001b[0m \u001b[0;36m10\u001b[0m\u001b[0;34m**\u001b[0m\u001b[0;34m(\u001b[0m\u001b[0;34m-\u001b[0m\u001b[0;36m2\u001b[0m\u001b[0;34m)\u001b[0m\u001b[0;34m)\u001b[0m\u001b[0;34m[\u001b[0m\u001b[0;36m321\u001b[0m\u001b[0;34m]\u001b[0m\u001b[0;34m\u001b[0m\u001b[0;34m\u001b[0m\u001b[0m\n\u001b[0m",
      "\u001b[0;31mIndexError\u001b[0m: tuple index out of range"
     ]
    }
   ],
   "source": [
    "# Calculating magnitudes\n",
    "def magnitude(lc):\n",
    "    return -2.5* np.log10(lc[:,1]) + 20.2\n",
    "def rms(magnitudes):\n",
    "    return np.sqrt(np.mean(np.square(magnitudes - np.nanmean(magnitudes))))\n",
    "\n",
    "\n",
    "magnitudes = [magnitude(x) for x in lc]\n",
    "mean_mag = [np.nanmean(x) for x in magnitudes]\n",
    "rms_mag = [rms(x) for x in magnitudes]\n",
    "\n",
    "mean_mag = np.array(mean_mag)\n",
    "rms_mag = np.array(rms_mag)\n",
    "\n",
    "\n"
   ]
  },
  {
   "cell_type": "code",
   "execution_count": 55,
   "metadata": {},
   "outputs": [
    {
     "data": {
      "text/plain": [
       "1589"
      ]
     },
     "execution_count": 55,
     "metadata": {},
     "output_type": "execute_result"
    }
   ],
   "source": [
    "x = np.where(rms_mag < 10**(-1))[0]\n",
    "x[1543]\n",
    "\n"
   ]
  },
  {
   "cell_type": "code",
   "execution_count": 65,
   "metadata": {},
   "outputs": [
    {
     "name": "stdout",
     "output_type": "stream",
     "text": [
      "0.020477404888117837\n"
     ]
    }
   ],
   "source": [
    "print(rms_mag[2304])"
   ]
  },
  {
   "cell_type": "code",
   "execution_count": 66,
   "metadata": {},
   "outputs": [],
   "source": [
    "# Make the injected transit.\n",
    "\n",
    "# Use batman to create transits\n",
    "ma = batman.TransitParams()\n",
    "ma.t0 = time[0]  # time of inferior conjunction; first transit is X days after start\n",
    "ma.per = 3.7 # orbital period\n",
    "ma.rp = 0.1  # 1% dip planet radius (in units of stellar radii)\n",
    "ma.a = 8.47 # semi-major axis (in units of stellar radii)\n",
    "ma.inc = 90  # orbital inclination (in degrees)\n",
    "ma.ecc = 0  # eccentricity\n",
    "ma.w = 90  # longitude of periastron (in degrees)\n",
    "ma.u = []  # limb darkening coefficients\n",
    "ma.limb_dark = \"uniform\"  # limb darkening model\n",
    "m = batman.TransitModel(ma, time)  # initializes model\n",
    "synthetic_signal = m.light_curve(ma)  # calculates light curve\n",
    "\n",
    "# Sigma clip the data and then run the TLS search\n",
    "flux_transit = flux * synthetic_signal \n",
    "\n",
    "\n",
    "# clipped_flux = slide_clip(\n",
    "#     time,\n",
    "#     flux_transit,\n",
    "#     window_length=1,\n",
    "#     low=3,\n",
    "#     high=2,\n",
    "#     method='std',  # mad or std\n",
    "#     center='median'  # median or mean\n",
    "#     )\n"
   ]
  },
  {
   "cell_type": "code",
   "execution_count": 67,
   "metadata": {},
   "outputs": [
    {
     "ename": "NameError",
     "evalue": "name 'clipped_flux' is not defined",
     "output_type": "error",
     "traceback": [
      "\u001b[0;31m---------------------------------------------------------------------------\u001b[0m",
      "\u001b[0;31mNameError\u001b[0m                                 Traceback (most recent call last)",
      "\u001b[0;32m<ipython-input-67-c2ac088db60f>\u001b[0m in \u001b[0;36m<module>\u001b[0;34m\u001b[0m\n\u001b[1;32m      1\u001b[0m \u001b[0mplt\u001b[0m\u001b[0;34m.\u001b[0m\u001b[0mscatter\u001b[0m\u001b[0;34m(\u001b[0m\u001b[0mtime\u001b[0m\u001b[0;34m,\u001b[0m \u001b[0mflux_transit\u001b[0m\u001b[0;34m)\u001b[0m\u001b[0;34m\u001b[0m\u001b[0;34m\u001b[0m\u001b[0m\n\u001b[0;32m----> 2\u001b[0;31m \u001b[0mplt\u001b[0m\u001b[0;34m.\u001b[0m\u001b[0mscatter\u001b[0m\u001b[0;34m(\u001b[0m\u001b[0mtime\u001b[0m\u001b[0;34m,\u001b[0m \u001b[0mclipped_flux\u001b[0m\u001b[0;34m)\u001b[0m\u001b[0;34m\u001b[0m\u001b[0;34m\u001b[0m\u001b[0m\n\u001b[0m",
      "\u001b[0;31mNameError\u001b[0m: name 'clipped_flux' is not defined"
     ]
    },
    {
     "data": {
      "image/png": "[encoded data removed]",
      "text/plain": [
       "<Figure size 432x288 with 1 Axes>"
      ]
     },
     "metadata": {
      "needs_background": "light"
     },
     "output_type": "display_data"
    }
   ],
   "source": [
    "plt.scatter(time, flux_transit)\n",
    "plt.scatter(time, clipped_flux)"
   ]
  },
  {
   "cell_type": "code",
   "execution_count": 68,
   "metadata": {},
   "outputs": [
    {
     "name": "stderr",
     "output_type": "stream",
     "text": [
      "/home/jpr64/.conda/envs/orion_jake/lib/python3.7/site-packages/transitleastsquares/transit.py:157: VisibleDeprecationWarning: Creating an ndarray from ragged nested sequences (which is a list-or-tuple of lists-or-tuples-or ndarrays with different lengths or shapes) is deprecated. If you meant to do this, you must specify 'dtype=object' when creating the ndarray.\n",
      "  lc_arr = numpy.array(lc_arr)\n",
      "\r",
      "  0%|          | 0/9042 periods | 00:00<?"
     ]
    },
    {
     "name": "stdout",
     "output_type": "stream",
     "text": [
      "Transit Least Squares TLS 1.0.26 (20 March 2021)\n",
      "Creating model cache for 36 durations\n",
      "Searching 4632 data points, 9042 periods from 1.0 to 9.998 days\n",
      "Using 40 of 64 CPU threads\n"
     ]
    },
    {
     "name": "stderr",
     "output_type": "stream",
     "text": [
      "100%|██████████| 9042/9042 periods | 00:38<00:00\n",
      "/home/jpr64/.conda/envs/orion_jake/lib/python3.7/site-packages/numpy/core/_methods.py:262: RuntimeWarning: Degrees of freedom <= 0 for slice\n",
      "  keepdims=keepdims, where=where)\n",
      "/home/jpr64/.conda/envs/orion_jake/lib/python3.7/site-packages/numpy/core/_methods.py:222: RuntimeWarning: invalid value encountered in true_divide\n",
      "  subok=False)\n",
      "/home/jpr64/.conda/envs/orion_jake/lib/python3.7/site-packages/numpy/core/_methods.py:253: RuntimeWarning: invalid value encountered in double_scalars\n",
      "  ret = ret.dtype.type(ret / rcount)\n",
      "/home/jpr64/.conda/envs/orion_jake/lib/python3.7/site-packages/transitleastsquares/main.py:404: UserWarning: 25 of 26 transits without data. The true period may be twice the given period.\n",
      "  warnings.warn(text)\n"
     ]
    }
   ],
   "source": [
    "output = pd.DataFrame()\n",
    "\n",
    "for i in [7]: \n",
    "    w_length = i\n",
    "    \n",
    "    flatten_lc, trend_lc = flatten(\n",
    "        time,                 # Array of time values\n",
    "        flux_transit,                 # Array of flux values\n",
    "        method='lowess',\n",
    "        window_length = w_length ,    # The length of the filter window in units of ``time``\n",
    "        return_trend=True,    # Return trend and flattened light curve\n",
    "        )\n",
    "    \n",
    "    time_flatten, flatten_lc = cleaned_array(time, flatten_lc)\n",
    "        \n",
    "    flux_sigma_clipped = sigma_clip(flatten_lc, sigma_lower = float('inf'), sigma_upper= 3)\n",
    "    \n",
    "    model = transitleastsquares(time_flatten, flatten_lc)\n",
    "    results = model.power(period_min = 1, period_max = 10, limb_dark = 'linear', u =[0], use_threads = 40, oversampling_factor=2)\n",
    "    output = output.append(results, ignore_index = True)\n",
    "    "
   ]
  },
  {
   "cell_type": "code",
   "execution_count": 69,
   "metadata": {},
   "outputs": [
    {
     "data": {
      "text/plain": [
       "0    7.960857\n",
       "Name: period, dtype: float64"
      ]
     },
     "execution_count": 69,
     "metadata": {},
     "output_type": "execute_result"
    }
   ],
   "source": [
    "output['period']"
   ]
  },
  {
   "cell_type": "code",
   "execution_count": 47,
   "metadata": {},
   "outputs": [
    {
     "name": "stderr",
     "output_type": "stream",
     "text": [
      "\r",
      "  0%|          | 0/9042 periods | 00:00<?"
     ]
    },
    {
     "name": "stdout",
     "output_type": "stream",
     "text": [
      "Transit Least Squares TLS 1.0.26 (20 March 2021)\n",
      "Creating model cache for 36 durations\n",
      "Searching 4632 data points, 9042 periods from 1.0 to 9.998 days\n",
      "Using 40 of 64 CPU threads\n"
     ]
    },
    {
     "name": "stderr",
     "output_type": "stream",
     "text": [
      "100%|██████████| 9042/9042 periods | 00:37<00:00\n",
      "/home/jpr64/.conda/envs/orion_jake/lib/python3.7/site-packages/transitleastsquares/main.py:404: UserWarning: 104 of 142 transits without data. The true period may be twice the given period.\n",
      "  warnings.warn(text)\n"
     ]
    }
   ],
   "source": [
    "model = transitleastsquares(time, flux / np.nanmean(flux))\n",
    "results = model.power(period_min = 1, period_max = 10, limb_dark = 'linear', u =[0], use_threads = 40, oversampling_factor=2)\n",
    "output = output.append(results, ignore_index = True)"
   ]
  },
  {
   "cell_type": "code",
   "execution_count": 48,
   "metadata": {},
   "outputs": [
    {
     "data": {
      "text/html": [
       "<div>\n",
       "<style scoped>\n",
       "    .dataframe tbody tr th:only-of-type {\n",
       "        vertical-align: middle;\n",
       "    }\n",
       "\n",
       "    .dataframe tbody tr th {\n",
       "        vertical-align: top;\n",
       "    }\n",
       "\n",
       "    .dataframe thead th {\n",
       "        text-align: right;\n",
       "    }\n",
       "</style>\n",
       "<table border=\"1\" class=\"dataframe\">\n",
       "  <thead>\n",
       "    <tr style=\"text-align: right;\">\n",
       "      <th></th>\n",
       "      <th>FAP</th>\n",
       "      <th>SDE</th>\n",
       "      <th>SDE_raw</th>\n",
       "      <th>SR</th>\n",
       "      <th>T0</th>\n",
       "      <th>after_transit_count</th>\n",
       "      <th>before_transit_count</th>\n",
       "      <th>chi2</th>\n",
       "      <th>chi2_min</th>\n",
       "      <th>chi2red</th>\n",
       "      <th>...</th>\n",
       "      <th>power</th>\n",
       "      <th>power_raw</th>\n",
       "      <th>rp_rs</th>\n",
       "      <th>snr</th>\n",
       "      <th>snr_per_transit</th>\n",
       "      <th>snr_pink_per_transit</th>\n",
       "      <th>transit_count</th>\n",
       "      <th>transit_depths</th>\n",
       "      <th>transit_depths_uncertainties</th>\n",
       "      <th>transit_times</th>\n",
       "    </tr>\n",
       "  </thead>\n",
       "  <tbody>\n",
       "    <tr>\n",
       "      <th>0</th>\n",
       "      <td>0.00024</td>\n",
       "      <td>8.863342</td>\n",
       "      <td>8.679790</td>\n",
       "      <td>[0.9511372513325179, 0.9508909150211282, 0.950...</td>\n",
       "      <td>1324.514137</td>\n",
       "      <td>206.0</td>\n",
       "      <td>201.0</td>\n",
       "      <td>[4596.813728734834, 4598.00457210098, 4600.087...</td>\n",
       "      <td>4372.200775</td>\n",
       "      <td>[0.9932613934172069, 0.9935187061583794, 0.993...</td>\n",
       "      <td>...</td>\n",
       "      <td>[-3.5496361117720627, -3.6028136890270837, -3....</td>\n",
       "      <td>[0.33043366466791263, 0.28834127714020863, 0.2...</td>\n",
       "      <td>0.191619</td>\n",
       "      <td>10.581146</td>\n",
       "      <td>[0.0, 0.0, 0.0, 0.0, 0.0, 0.0, 0.0, 0.0, 0.0, ...</td>\n",
       "      <td>[0.0, 0.0, 0.0, 0.0, 0.0, 0.0, 0.0, 0.0, 0.0, ...</td>\n",
       "      <td>107.0</td>\n",
       "      <td>[nan, nan, nan, nan, nan, nan, nan, nan, nan, ...</td>\n",
       "      <td>[nan, nan, nan, nan, nan, nan, nan, nan, nan, ...</td>\n",
       "      <td>[1324.5141370542742, 1326.5088121089298, 1328....</td>\n",
       "    </tr>\n",
       "    <tr>\n",
       "      <th>1</th>\n",
       "      <td>0.00008</td>\n",
       "      <td>9.224776</td>\n",
       "      <td>7.595893</td>\n",
       "      <td>[0.9603922678414579, 0.9631747427978532, 0.965...</td>\n",
       "      <td>1324.957301</td>\n",
       "      <td>131.0</td>\n",
       "      <td>135.0</td>\n",
       "      <td>[4511.957002008066, 4498.922599417783, 4489.53...</td>\n",
       "      <td>4333.248618</td>\n",
       "      <td>[0.9749258863457361, 0.9721094640055711, 0.970...</td>\n",
       "      <td>...</td>\n",
       "      <td>[-1.7993330719135456, -1.2784840877869346, -0....</td>\n",
       "      <td>[1.8343784222328532, 2.239129433380763, 2.5319...</td>\n",
       "      <td>0.211837</td>\n",
       "      <td>9.708527</td>\n",
       "      <td>[0.0, 0.0, 0.0, 0.0, 0.0, 0.0, 0.0, 0.0, 0.0, ...</td>\n",
       "      <td>[0.0, 0.0, 0.0, 0.0, 0.0, 0.0, 0.0, 0.0, 0.0, ...</td>\n",
       "      <td>142.0</td>\n",
       "      <td>[nan, nan, nan, nan, nan, nan, nan, nan, nan, ...</td>\n",
       "      <td>[nan, nan, nan, nan, nan, nan, nan, nan, nan, ...</td>\n",
       "      <td>[1324.9573014386597, 1326.4539438185218, 1327....</td>\n",
       "    </tr>\n",
       "  </tbody>\n",
       "</table>\n",
       "<p>2 rows × 41 columns</p>\n",
       "</div>"
      ],
      "text/plain": [
       "       FAP       SDE   SDE_raw  \\\n",
       "0  0.00024  8.863342  8.679790   \n",
       "1  0.00008  9.224776  7.595893   \n",
       "\n",
       "                                                  SR           T0  \\\n",
       "0  [0.9511372513325179, 0.9508909150211282, 0.950...  1324.514137   \n",
       "1  [0.9603922678414579, 0.9631747427978532, 0.965...  1324.957301   \n",
       "\n",
       "   after_transit_count  before_transit_count  \\\n",
       "0                206.0                 201.0   \n",
       "1                131.0                 135.0   \n",
       "\n",
       "                                                chi2     chi2_min  \\\n",
       "0  [4596.813728734834, 4598.00457210098, 4600.087...  4372.200775   \n",
       "1  [4511.957002008066, 4498.922599417783, 4489.53...  4333.248618   \n",
       "\n",
       "                                             chi2red  ...  \\\n",
       "0  [0.9932613934172069, 0.9935187061583794, 0.993...  ...   \n",
       "1  [0.9749258863457361, 0.9721094640055711, 0.970...  ...   \n",
       "\n",
       "                                               power  \\\n",
       "0  [-3.5496361117720627, -3.6028136890270837, -3....   \n",
       "1  [-1.7993330719135456, -1.2784840877869346, -0....   \n",
       "\n",
       "                                           power_raw     rp_rs        snr  \\\n",
       "0  [0.33043366466791263, 0.28834127714020863, 0.2...  0.191619  10.581146   \n",
       "1  [1.8343784222328532, 2.239129433380763, 2.5319...  0.211837   9.708527   \n",
       "\n",
       "                                     snr_per_transit  \\\n",
       "0  [0.0, 0.0, 0.0, 0.0, 0.0, 0.0, 0.0, 0.0, 0.0, ...   \n",
       "1  [0.0, 0.0, 0.0, 0.0, 0.0, 0.0, 0.0, 0.0, 0.0, ...   \n",
       "\n",
       "                                snr_pink_per_transit  transit_count  \\\n",
       "0  [0.0, 0.0, 0.0, 0.0, 0.0, 0.0, 0.0, 0.0, 0.0, ...          107.0   \n",
       "1  [0.0, 0.0, 0.0, 0.0, 0.0, 0.0, 0.0, 0.0, 0.0, ...          142.0   \n",
       "\n",
       "                                      transit_depths  \\\n",
       "0  [nan, nan, nan, nan, nan, nan, nan, nan, nan, ...   \n",
       "1  [nan, nan, nan, nan, nan, nan, nan, nan, nan, ...   \n",
       "\n",
       "                        transit_depths_uncertainties  \\\n",
       "0  [nan, nan, nan, nan, nan, nan, nan, nan, nan, ...   \n",
       "1  [nan, nan, nan, nan, nan, nan, nan, nan, nan, ...   \n",
       "\n",
       "                                       transit_times  \n",
       "0  [1324.5141370542742, 1326.5088121089298, 1328....  \n",
       "1  [1324.9573014386597, 1326.4539438185218, 1327....  \n",
       "\n",
       "[2 rows x 41 columns]"
      ]
     },
     "execution_count": 48,
     "metadata": {},
     "output_type": "execute_result"
    }
   ],
   "source": [
    "output['per']"
   ]
  },
  {
   "cell_type": "code",
   "execution_count": 70,
   "metadata": {},
   "outputs": [
    {
     "data": {
      "text/plain": [
       "[<matplotlib.lines.Line2D at 0x7f9ede9846d0>]"
      ]
     },
     "execution_count": 70,
     "metadata": {},
     "output_type": "execute_result"
    },
    {
     "data": {
      "image/png": "[encoded data removed]",
      "text/plain": [
       "<Figure size 432x288 with 1 Axes>"
      ]
     },
     "metadata": {
      "needs_background": "light"
     },
     "output_type": "display_data"
    }
   ],
   "source": [
    "periods = output['periods'][0]\n",
    "powers = output['power'][0]\n",
    "\n",
    "plt.plot(periods, powers)"
   ]
  },
  {
   "cell_type": "code",
   "execution_count": 25,
   "metadata": {},
   "outputs": [
    {
     "name": "stderr",
     "output_type": "stream",
     "text": [
      "\r",
      "  0%|          | 0/9042 periods | 00:00<?"
     ]
    },
    {
     "name": "stdout",
     "output_type": "stream",
     "text": [
      "Transit Least Squares TLS 1.0.26 (20 March 2021)\n",
      "Creating model cache for 36 durations\n",
      "Searching 4618 data points, 9042 periods from 1.0 to 9.998 days\n",
      "Using 40 of 64 CPU threads\n"
     ]
    },
    {
     "name": "stderr",
     "output_type": "stream",
     "text": [
      "100%|██████████| 9042/9042 periods | 00:40<00:00\n",
      "/home/jpr64/.conda/envs/orion_jake/lib/python3.7/site-packages/transitleastsquares/main.py:404: UserWarning: 195 of 212 transits without data. The true period may be twice the given period.\n",
      "  warnings.warn(text)\n",
      "  0%|          | 0/9042 periods | 00:00<?"
     ]
    },
    {
     "name": "stdout",
     "output_type": "stream",
     "text": [
      "Transit Least Squares TLS 1.0.26 (20 March 2021)\n",
      "Creating model cache for 36 durations\n",
      "Searching 4618 data points, 9042 periods from 1.0 to 9.998 days\n",
      "Using 40 of 64 CPU threads\n"
     ]
    },
    {
     "name": "stderr",
     "output_type": "stream",
     "text": [
      "100%|██████████| 9042/9042 periods | 00:41<00:00\n",
      "/home/jpr64/.conda/envs/orion_jake/lib/python3.7/site-packages/transitleastsquares/main.py:404: UserWarning: 106 of 116 transits without data. The true period may be twice the given period.\n",
      "  warnings.warn(text)\n",
      "  0%|          | 0/9042 periods | 00:00<?"
     ]
    },
    {
     "name": "stdout",
     "output_type": "stream",
     "text": [
      "Transit Least Squares TLS 1.0.26 (20 March 2021)\n",
      "Creating model cache for 36 durations\n",
      "Searching 4618 data points, 9042 periods from 1.0 to 9.998 days\n",
      "Using 40 of 64 CPU threads\n"
     ]
    },
    {
     "name": "stderr",
     "output_type": "stream",
     "text": [
      "100%|██████████| 9042/9042 periods | 00:41<00:00\n",
      "/home/jpr64/.conda/envs/orion_jake/lib/python3.7/site-packages/transitleastsquares/main.py:404: UserWarning: 72 of 81 transits without data. The true period may be twice the given period.\n",
      "  warnings.warn(text)\n",
      "  0%|          | 0/9042 periods | 00:00<?"
     ]
    },
    {
     "name": "stdout",
     "output_type": "stream",
     "text": [
      "Transit Least Squares TLS 1.0.26 (20 March 2021)\n",
      "Creating model cache for 36 durations\n",
      "Searching 4618 data points, 9042 periods from 1.0 to 9.998 days\n",
      "Using 40 of 64 CPU threads\n"
     ]
    },
    {
     "name": "stderr",
     "output_type": "stream",
     "text": [
      "100%|██████████| 9042/9042 periods | 00:41<00:00\n",
      "/home/jpr64/.conda/envs/orion_jake/lib/python3.7/site-packages/transitleastsquares/main.py:404: UserWarning: 52 of 61 transits without data. The true period may be twice the given period.\n",
      "  warnings.warn(text)\n",
      "  0%|          | 0/9042 periods | 00:00<?"
     ]
    },
    {
     "name": "stdout",
     "output_type": "stream",
     "text": [
      "Transit Least Squares TLS 1.0.26 (20 March 2021)\n",
      "Creating model cache for 36 durations\n",
      "Searching 4618 data points, 9042 periods from 1.0 to 9.998 days\n",
      "Using 40 of 64 CPU threads\n"
     ]
    },
    {
     "name": "stderr",
     "output_type": "stream",
     "text": [
      "100%|██████████| 9042/9042 periods | 00:39<00:00\n",
      "/home/jpr64/.conda/envs/orion_jake/lib/python3.7/site-packages/transitleastsquares/main.py:404: UserWarning: 47 of 50 transits without data. The true period may be twice the given period.\n",
      "  warnings.warn(text)\n",
      "  0%|          | 0/9042 periods | 00:00<?"
     ]
    },
    {
     "name": "stdout",
     "output_type": "stream",
     "text": [
      "Transit Least Squares TLS 1.0.26 (20 March 2021)\n",
      "Creating model cache for 36 durations\n",
      "Searching 4618 data points, 9042 periods from 1.0 to 9.998 days\n",
      "Using 40 of 64 CPU threads\n"
     ]
    },
    {
     "name": "stderr",
     "output_type": "stream",
     "text": [
      "100%|██████████| 9042/9042 periods | 00:41<00:00\n",
      "/home/jpr64/.conda/envs/orion_jake/lib/python3.7/site-packages/transitleastsquares/main.py:404: UserWarning: 38 of 41 transits without data. The true period may be twice the given period.\n",
      "  warnings.warn(text)\n",
      "  0%|          | 0/9042 periods | 00:00<?"
     ]
    },
    {
     "name": "stdout",
     "output_type": "stream",
     "text": [
      "Transit Least Squares TLS 1.0.26 (20 March 2021)\n",
      "Creating model cache for 36 durations\n",
      "Searching 4618 data points, 9042 periods from 1.0 to 9.998 days\n",
      "Using 40 of 64 CPU threads\n"
     ]
    },
    {
     "name": "stderr",
     "output_type": "stream",
     "text": [
      "100%|██████████| 9042/9042 periods | 00:41<00:00\n",
      "/home/jpr64/.conda/envs/orion_jake/lib/python3.7/site-packages/transitleastsquares/main.py:404: UserWarning: 33 of 36 transits without data. The true period may be twice the given period.\n",
      "  warnings.warn(text)\n",
      "  0%|          | 0/9042 periods | 00:00<?"
     ]
    },
    {
     "name": "stdout",
     "output_type": "stream",
     "text": [
      "Transit Least Squares TLS 1.0.26 (20 March 2021)\n",
      "Creating model cache for 36 durations\n",
      "Searching 4618 data points, 9042 periods from 1.0 to 9.998 days\n",
      "Using 40 of 64 CPU threads\n"
     ]
    },
    {
     "name": "stderr",
     "output_type": "stream",
     "text": [
      "100%|██████████| 9042/9042 periods | 00:38<00:00\n",
      "/home/jpr64/.conda/envs/orion_jake/lib/python3.7/site-packages/transitleastsquares/main.py:404: UserWarning: 27 of 31 transits without data. The true period may be twice the given period.\n",
      "  warnings.warn(text)\n",
      "  0%|          | 0/9042 periods | 00:00<?"
     ]
    },
    {
     "name": "stdout",
     "output_type": "stream",
     "text": [
      "Transit Least Squares TLS 1.0.26 (20 March 2021)\n",
      "Creating model cache for 36 durations\n",
      "Searching 4618 data points, 9042 periods from 1.0 to 9.998 days\n",
      "Using 40 of 64 CPU threads\n"
     ]
    },
    {
     "name": "stderr",
     "output_type": "stream",
     "text": [
      "100%|██████████| 9042/9042 periods | 00:38<00:00\n",
      "/home/jpr64/.conda/envs/orion_jake/lib/python3.7/site-packages/transitleastsquares/main.py:404: UserWarning: 25 of 28 transits without data. The true period may be twice the given period.\n",
      "  warnings.warn(text)\n",
      "  0%|          | 0/9042 periods | 00:00<?"
     ]
    },
    {
     "name": "stdout",
     "output_type": "stream",
     "text": [
      "Transit Least Squares TLS 1.0.26 (20 March 2021)\n",
      "Creating model cache for 36 durations\n",
      "Searching 4618 data points, 9042 periods from 1.0 to 9.998 days\n",
      "Using 40 of 64 CPU threads\n"
     ]
    },
    {
     "name": "stderr",
     "output_type": "stream",
     "text": [
      "100%|██████████| 9042/9042 periods | 00:38<00:00\n",
      "/home/jpr64/.conda/envs/orion_jake/lib/python3.7/site-packages/transitleastsquares/main.py:404: UserWarning: 22 of 25 transits without data. The true period may be twice the given period.\n",
      "  warnings.warn(text)\n",
      "  0%|          | 0/9042 periods | 00:00<?"
     ]
    },
    {
     "name": "stdout",
     "output_type": "stream",
     "text": [
      "Transit Least Squares TLS 1.0.26 (20 March 2021)\n",
      "Creating model cache for 36 durations\n",
      "Searching 4618 data points, 9042 periods from 1.0 to 9.998 days\n",
      "Using 40 of 64 CPU threads\n"
     ]
    },
    {
     "name": "stderr",
     "output_type": "stream",
     "text": [
      "100%|██████████| 9042/9042 periods | 00:40<00:00\n",
      "/home/jpr64/.conda/envs/orion_jake/lib/python3.7/site-packages/transitleastsquares/stats.py:456: RuntimeWarning: divide by zero encountered in double_scalars\n",
      "  snr_pink_per_transit[i] = (1 - mean_flux) / pinknoise\n",
      "/home/jpr64/.conda/envs/orion_jake/lib/python3.7/site-packages/transitleastsquares/main.py:404: UserWarning: 20 of 24 transits without data. The true period may be twice the given period.\n",
      "  warnings.warn(text)\n",
      "  0%|          | 0/9042 periods | 00:00<?"
     ]
    },
    {
     "name": "stdout",
     "output_type": "stream",
     "text": [
      "Transit Least Squares TLS 1.0.26 (20 March 2021)\n",
      "Creating model cache for 36 durations\n",
      "Searching 4618 data points, 9042 periods from 1.0 to 9.998 days\n",
      "Using 40 of 64 CPU threads\n"
     ]
    },
    {
     "name": "stderr",
     "output_type": "stream",
     "text": [
      "100%|██████████| 9042/9042 periods | 00:41<00:00\n",
      "/home/jpr64/.conda/envs/orion_jake/lib/python3.7/site-packages/transitleastsquares/main.py:404: UserWarning: 15 of 21 transits without data. The true period may be twice the given period.\n",
      "  warnings.warn(text)\n"
     ]
    }
   ],
   "source": [
    "output = pd.DataFrame()\n",
    "\n",
    "for i in np.linspace(1, 10, 12): \n",
    "    ma = batman.TransitParams()\n",
    "    ma.t0 = time[0]  # time of inferior conjunction; first transit is X days after start\n",
    "    ma.per = i # orbital period\n",
    "    ma.rp = 0.1  # 1% dip planet radius (in units of stellar radii)\n",
    "    ma.a = 8.47 # semi-major axis (in units of stellar radii)\n",
    "    ma.inc = 90  # orbital inclination (in degrees)\n",
    "    ma.ecc = 0  # eccentricity\n",
    "    ma.w = 90  # longitude of periastron (in degrees)\n",
    "    ma.u = []  # limb darkening coefficients\n",
    "    ma.limb_dark = \"uniform\"  # limb darkening model\n",
    "    m = batman.TransitModel(ma, time)  # initializes model\n",
    "    synthetic_signal = m.light_curve(ma)  # calculates light curve\n",
    "\n",
    "    # Sigma clip the data and then run the TLS search\n",
    "    flux_transit = flux * synthetic_signal \n",
    "\n",
    "\n",
    "    \n",
    "    \n",
    "    \n",
    "    \n",
    "    w_length = 7\n",
    "    \n",
    "    flatten_lc, trend_lc = flatten(\n",
    "        time,                 # Array of time values\n",
    "        flux_transit,                 # Array of flux values\n",
    "        method='lowess',\n",
    "        window_length = w_length ,    # The length of the filter window in units of ``time``\n",
    "        return_trend=True,    # Return trend and flattened light curve\n",
    "        )\n",
    "    \n",
    "    time_flatten, flatten_lc = cleaned_array(time, flatten_lc)\n",
    "        \n",
    "# flux_sigma_clipped = sigma_clip(flatten_lc, sigma_lower = float('inf'), sigma_upper= 3)\n",
    "    \n",
    "    model = transitleastsquares(time_flatten, flatten_lc)\n",
    "    results = model.power(period_min = 1, period_max = 10, limb_dark = 'linear', u =[0], use_threads = 40, oversampling_factor=2)\n",
    "    output = output.append(results, ignore_index = True)\n",
    "    "
   ]
  },
  {
   "cell_type": "code",
   "execution_count": 26,
   "metadata": {},
   "outputs": [
    {
     "data": {
      "text/plain": [
       "0     1.000035\n",
       "1     1.818350\n",
       "2     2.636301\n",
       "3     3.455027\n",
       "4     4.272722\n",
       "5     5.091042\n",
       "6     5.908523\n",
       "7     6.726928\n",
       "8     7.546316\n",
       "9     8.363971\n",
       "10    9.183434\n",
       "11    9.997778\n",
       "Name: period, dtype: float64"
      ]
     },
     "execution_count": 26,
     "metadata": {},
     "output_type": "execute_result"
    }
   ],
   "source": [
    "output['period']"
   ]
  },
  {
   "cell_type": "code",
   "execution_count": 27,
   "metadata": {},
   "outputs": [
    {
     "data": {
      "text/plain": [
       "array([ 1.        ,  1.81818182,  2.63636364,  3.45454545,  4.27272727,\n",
       "        5.09090909,  5.90909091,  6.72727273,  7.54545455,  8.36363636,\n",
       "        9.18181818, 10.        ])"
      ]
     },
     "execution_count": 27,
     "metadata": {},
     "output_type": "execute_result"
    }
   ],
   "source": [
    "np.linspace(1,10,12)"
   ]
  },
  {
   "cell_type": "code",
   "execution_count": 38,
   "metadata": {},
   "outputs": [
    {
     "data": {
      "text/plain": [
       "<matplotlib.collections.PathCollection at 0x7f9edeb713d0>"
      ]
     },
     "execution_count": 38,
     "metadata": {},
     "output_type": "execute_result"
    },
    {
     "data": {
      "image/png": "[encoded data removed]",
      "text/plain": [
       "<Figure size 432x288 with 1 Axes>"
      ]
     },
     "metadata": {
      "needs_background": "light"
     },
     "output_type": "display_data"
    }
   ],
   "source": [
    "plt.scatter(time, flux_transit/np.nanmean(flux_transit))\n",
    "# plt.scatter(time, flatten_lc)"
   ]
  },
  {
   "cell_type": "code",
   "execution_count": null,
   "metadata": {},
   "outputs": [],
   "source": []
  },
  {
   "cell_type": "code",
   "execution_count": null,
   "metadata": {},
   "outputs": [],
   "source": []
  },
  {
   "cell_type": "code",
   "execution_count": null,
   "metadata": {},
   "outputs": [],
   "source": []
  }
 ],
 "metadata": {
  "kernelspec": {
   "display_name": "orion_jake",
   "language": "python",
   "name": "orion_jake"
  },
  "language_info": {
   "codemirror_mode": {
    "name": "ipython",
    "version": 3
   },
   "file_extension": ".py",
   "mimetype": "text/x-python",
   "name": "python",
   "nbconvert_exporter": "python",
   "pygments_lexer": "ipython3",
   "version": "3.7.8"
  }
 },
 "nbformat": 4,
 "nbformat_minor": 4
}
