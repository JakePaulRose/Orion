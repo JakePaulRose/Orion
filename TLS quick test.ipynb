{
 "cells": [
  {
   "cell_type": "code",
   "execution_count": 1,
   "metadata": {},
   "outputs": [],
   "source": [
    "import numpy as np\n",
    "import matplotlib.pyplot as plt\n",
    "from astropy.io import fits\n",
    "from astropy.stats import sigma_clip\n",
    "from wotan import flatten\n",
    "from transitleastsquares import (\n",
    "    transitleastsquares,\n",
    "    cleaned_array,\n",
    "    catalog_info,\n",
    "    transit_mask\n",
    "    )"
   ]
  },
  {
   "cell_type": "code",
   "execution_count": 2,
   "metadata": {},
   "outputs": [],
   "source": [
    "# Load data\n",
    "data = np.load('/data/jpr64/rebinned_data_test.npy', allow_pickle = True)"
   ]
  },
  {
   "cell_type": "code",
   "execution_count": 3,
   "metadata": {},
   "outputs": [],
   "source": [
    "\n",
    "index = 4601\n",
    "time = data[index][:,0]\n",
    "flux = data[index][:,1]\n",
    "flux_error = data[index][:,2]"
   ]
  },
  {
   "cell_type": "code",
   "execution_count": 4,
   "metadata": {},
   "outputs": [],
   "source": [
    "# Cleaning of nan and negative values\n",
    "time, flux = cleaned_array(time,flux)\n",
    "# flux = sigma_clip(flux, sigma_lower = float('inf'), sigma_upper= 4 )\n",
    "#"
   ]
  },
  {
   "cell_type": "code",
   "execution_count": 5,
   "metadata": {},
   "outputs": [
    {
     "data": {
      "text/plain": [
       "<matplotlib.collections.PathCollection at 0x7f687c364910>"
      ]
     },
     "execution_count": 5,
     "metadata": {},
     "output_type": "execute_result"
    },
    {
     "data": {
      "image/png": "[encoded data removed]",
      "text/plain": [
       "<Figure size 432x288 with 1 Axes>"
      ]
     },
     "metadata": {
      "needs_background": "light"
     },
     "output_type": "display_data"
    }
   ],
   "source": [
    "# Plotting original lc\n",
    "\n",
    "plt.scatter(time, flux)\n",
    "plt.scatter(time[500], np.nanmean(flux) + 4*np.std(flux))"
   ]
  },
  {
   "cell_type": "code",
   "execution_count": 6,
   "metadata": {},
   "outputs": [],
   "source": [
    "# Detrending with Wotan\n",
    "flatten_lc, trend_lc = flatten(time, flux, method='lowess', window_length = 0.125, return_trend=True)"
   ]
  },
  {
   "cell_type": "code",
   "execution_count": 7,
   "metadata": {},
   "outputs": [
    {
     "data": {
      "text/plain": [
       "<matplotlib.collections.PathCollection at 0x7f687c2b3d90>"
      ]
     },
     "execution_count": 7,
     "metadata": {},
     "output_type": "execute_result"
    },
    {
     "data": {
      "image/png": "[encoded data removed]",
      "text/plain": [
       "<Figure size 432x288 with 1 Axes>"
      ]
     },
     "metadata": {
      "needs_background": "light"
     },
     "output_type": "display_data"
    }
   ],
   "source": [
    "# Plotting detrended lc\n",
    "plt.scatter(time, flatten_lc)\n",
    "plt.scatter(time[500], np.nanmean(flatten_lc) + 4*np.nanstd(flatten_lc))\n"
   ]
  },
  {
   "cell_type": "code",
   "execution_count": 8,
   "metadata": {},
   "outputs": [
    {
     "name": "stderr",
     "output_type": "stream",
     "text": [
      "WARNING: Input data contains invalid values (NaNs or infs), which were automatically clipped. [astropy.stats.sigma_clipping]\n"
     ]
    }
   ],
   "source": [
    "# Sigma clipping at 4\n",
    "flatten_lc = sigma_clip(flatten_lc, sigma_lower = float('inf'), sigma_upper= 4)\n",
    "\n",
    "\n"
   ]
  },
  {
   "cell_type": "code",
   "execution_count": 9,
   "metadata": {},
   "outputs": [
    {
     "name": "stderr",
     "output_type": "stream",
     "text": [
      "/home/jpr64/.conda/envs/orion_jake/lib/python3.7/site-packages/transitleastsquares/transit.py:157: VisibleDeprecationWarning: Creating an ndarray from ragged nested sequences (which is a list-or-tuple of lists-or-tuples-or ndarrays with different lengths or shapes) is deprecated. If you meant to do this, you must specify 'dtype=object' when creating the ndarray.\n",
      "  lc_arr = numpy.array(lc_arr)\n",
      "\r",
      "  0%|          | 0/24641 periods | 00:00<?"
     ]
    },
    {
     "name": "stdout",
     "output_type": "stream",
     "text": [
      "Transit Least Squares TLS 1.0.26 (20 March 2021)\n",
      "Creating model cache for 52 durations\n",
      "Searching 4574 data points, 24641 periods from 0.602 to 106.328 days\n",
      "Using all 64 CPU threads\n"
     ]
    },
    {
     "name": "stderr",
     "output_type": "stream",
     "text": [
      "100%|██████████| 24641/24641 periods | 00:42<00:00\n",
      "/home/jpr64/.conda/envs/orion_jake/lib/python3.7/site-packages/transitleastsquares/stats.py:456: RuntimeWarning: divide by zero encountered in double_scalars\n",
      "  snr_pink_per_transit[i] = (1 - mean_flux) / pinknoise\n"
     ]
    }
   ],
   "source": [
    "# TLS search\n",
    "model = transitleastsquares(time, flatten_lc, flux_error)\n",
    "results = model.power()\n",
    "\n",
    "\n"
   ]
  },
  {
   "cell_type": "code",
   "execution_count": 15,
   "metadata": {},
   "outputs": [
    {
     "data": {
      "text/plain": [
       "{'SDE': 25.41746834220464,\n",
       " 'SDE_raw': 9.643039147662343,\n",
       " 'chi2_min': 0.15325619542447658,\n",
       " 'chi2red_min': 3.35352725217673e-05,\n",
       " 'period': 53.89743391658167,\n",
       " 'period_uncertainty': 0.024130717562119486,\n",
       " 'T0': 1356.3769545628907,\n",
       " 'duration': 0.005450155307575326,\n",
       " 'depth': 0.9820848872828435,\n",
       " 'depth_mean': (0.9902166270604751, 0.004498080069090907),\n",
       " 'depth_mean_even': (0.9812623690810026, 0.0008639649781394097),\n",
       " 'depth_mean_odd': (0.9991708850399474, 7.566891974337327e-05),\n",
       " 'transit_depths': array([0.9824842 , 0.99917089, 0.98004054,        nan]),\n",
       " 'transit_depths_uncertainties': array([0.00000000e+00, 7.56689197e-05, 0.00000000e+00,            nan]),\n",
       " 'rp_rs': 0.12036962827059128,\n",
       " 'snr': 4.221221293842377,\n",
       " 'snr_per_transit': array([3.77876158, 0.25295849, 4.30594367, 0.        ]),\n",
       " 'snr_pink_per_transit': array([inf, inf, inf,  0.]),\n",
       " 'odd_even_mismatch': 19.05903565132861,\n",
       " 'transit_times': [1356.3769545628907,\n",
       "  1410.2743884794722,\n",
       "  1464.1718223960538,\n",
       "  1518.0692563126354],\n",
       " 'per_transit_count': array([1., 2., 1., 0.]),\n",
       " 'transit_count': 4,\n",
       " 'distinct_transit_count': 3,\n",
       " 'empty_transit_count': 1,\n",
       " 'FAP': 8.0032e-05,\n",
       " 'in_transit_count': 4,\n",
       " 'after_transit_count': 4,\n",
       " 'before_transit_count': 2,\n",
       " 'periods': array([  0.60160853,   0.60166873,   0.60172893, ..., 106.2085306 ,\n",
       "        106.26816834, 106.32785074]),\n",
       " 'power': array([-0.16325127, -0.0801127 , -0.06696983, ..., -4.31527062,\n",
       "        -4.31527062, -4.31527062]),\n",
       " 'power_raw': array([-0.40840879, -0.38400888, -0.38015164, ...,  4.67668637,\n",
       "         4.67668637,  4.67668637]),\n",
       " 'SR': array([0.08530297, 0.0875234 , 0.08787441, ..., 0.54805435, 0.54805435,\n",
       "        0.54805435]),\n",
       " 'chi2': array([1.79661038, 1.75103118, 1.74403669, ..., 0.27963685, 0.27963685,\n",
       "        0.27963685]),\n",
       " 'chi2red': array([3.93131374e-04, 3.83157808e-04, 3.81627284e-04, ...,\n",
       "        6.11896838e-05, 6.11896838e-05, 6.11896838e-05]),\n",
       " 'model_lightcurve_time': array([1324.4101356 , 1324.41956812, 1324.42900065, ..., 1537.03805918,\n",
       "        1537.04749171, 1537.05692423]),\n",
       " 'model_lightcurve_model': array([1., 1., 1., ..., 1., 1., 1.]),\n",
       " 'model_folded_phase': array([1.09313511e-04, 3.27988342e-04, 5.46663172e-04, ...,\n",
       "        9.99671964e-01, 9.99890639e-01, 1.00010931e+00]),\n",
       " 'folded_y': array([0.98545543, 1.00866467, 1.00584375, ..., 0.99417732, 1.0100584 ,\n",
       "        1.00373665]),\n",
       " 'folded_dy': array([1.13583625, 2.19871412, 0.66071385, ..., 1.26366469, 1.11523138,\n",
       "        1.83048689]),\n",
       " 'folded_phase': array([2.91017066e-05, 1.90777657e-04, 2.75746776e-04, ...,\n",
       "        9.99812937e-01, 9.99877002e-01, 9.99961145e-01]),\n",
       " 'model_folded_model': array([1., 1., 1., ..., 1., 1., 1.])}"
      ]
     },
     "execution_count": 15,
     "metadata": {},
     "output_type": "execute_result"
    }
   ],
   "source": [
    "results"
   ]
  },
  {
   "cell_type": "code",
   "execution_count": 11,
   "metadata": {},
   "outputs": [
    {
     "data": {
      "text/plain": [
       "[<matplotlib.lines.Line2D at 0x7f6aa1cdfa10>]"
      ]
     },
     "execution_count": 11,
     "metadata": {},
     "output_type": "execute_result"
    },
    {
     "data": {
      "image/png": "[encoded data removed]",
      "text/plain": [
       "<Figure size 432x288 with 1 Axes>"
      ]
     },
     "metadata": {
      "needs_background": "light"
     },
     "output_type": "display_data"
    }
   ],
   "source": [
    "plt.plot(results.periods, results.power)\n",
    "\n",
    "\n"
   ]
  },
  {
   "cell_type": "code",
   "execution_count": null,
   "metadata": {},
   "outputs": [],
   "source": []
  },
  {
   "cell_type": "code",
   "execution_count": null,
   "metadata": {},
   "outputs": [],
   "source": []
  }
 ],
 "metadata": {
  "kernelspec": {
   "display_name": "orion_jake",
   "language": "python",
   "name": "orion_jake"
  },
  "language_info": {
   "codemirror_mode": {
    "name": "ipython",
    "version": 3
   },
   "file_extension": ".py",
   "mimetype": "text/x-python",
   "name": "python",
   "nbconvert_exporter": "python",
   "pygments_lexer": "ipython3",
   "version": "3.7.8"
  }
 },
 "nbformat": 4,
 "nbformat_minor": 4
}
