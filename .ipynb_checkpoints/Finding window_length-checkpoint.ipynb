{
 "cells": [
  {
   "cell_type": "code",
   "execution_count": null,
   "metadata": {},
   "outputs": [],
   "source": [
    "import numpy as np\n",
    "import matplotlib.pyplot as plt\n",
    "from astropy.io import fits\n",
    "from astropy.stats import sigma_clip\n",
    "from transitleastsquares import (\n",
    "    transitleastsquares,\n",
    "    cleaned_array,\n",
    "    catalog_info,\n",
    "    transit_mask\n",
    "    )\n",
    "from wotan import flatten\n",
    "import pandas as pd\n",
    "from OrionPY import Tools\n",
    "import batman\n",
    "\n"
   ]
  },
  {
   "cell_type": "code",
   "execution_count": null,
   "metadata": {},
   "outputs": [],
   "source": [
    "# Loading in the original data for obj_ids and rebinned data\n",
    "hdu = Tools()\n",
    "data = np.load('/data/jpr64/rebinned_data_test.npy', allow_pickle = True)\n",
    "\n",
    "\n"
   ]
  },
  {
   "cell_type": "code",
   "execution_count": null,
   "metadata": {},
   "outputs": [],
   "source": [
    "# Putting data into lists\n",
    "lc = [x for x in data]\n",
    "obj_ids = [x for x in hdu.hdu[1].data['obj_id']]\n",
    "\n",
    "idx = [i for i, j  in enumerate(lc) if not j.shape == (0,3)]\n",
    "\n",
    "lc = [lc[i] for i in idx]\n",
    "obj_ids = [obj_ids[i] for i in idx]\n",
    "\n"
   ]
  },
  {
   "cell_type": "code",
   "execution_count": null,
   "metadata": {},
   "outputs": [],
   "source": [
    "# Loading data of specific object\n",
    "\n",
    "# object_num = 1045\n",
    "\n",
    "object_id = '001173'\n",
    "object_index = obj_ids.index(object_id)\n",
    "\n",
    "test = lc[object_index]\n",
    "flux = test[:,1]\n",
    "time = test[:,0]"
   ]
  },
  {
   "cell_type": "code",
   "execution_count": null,
   "metadata": {},
   "outputs": [],
   "source": [
    "def magnitude(lc):\n",
    "    return -2.5* np.log10(lc[:,1]) + 20.2\n",
    "def rms(magnitudes):\n",
    "    return np.sqrt(np.mean(np.square(magnitudes - np.nanmean(magnitudes))))\n",
    "\n",
    "\n",
    "magnitudes = [magnitude(x) for x in lc]\n",
    "mean_mag = [np.nanmean(x) for x in magnitudes]\n",
    "rms_mag = [rms(x) for x in magnitudes]\n",
    "\n",
    "mean_mag = np.array(mean_mag)\n",
    "rms_mag = np.array(rms_mag)\n",
    "\n"
   ]
  },
  {
   "cell_type": "code",
   "execution_count": null,
   "metadata": {},
   "outputs": [],
   "source": [
    "plt.scatter(time, magnitudes[object_index])\n",
    "\n",
    "# print(mean_mag[])"
   ]
  },
  {
   "cell_type": "code",
   "execution_count": null,
   "metadata": {},
   "outputs": [],
   "source": [
    "# Make the injected transit.\n",
    "\n",
    "# Celaning of nan and negative values\n",
    "time, flux = cleaned_array(time, flux)\n",
    "\n",
    "# Use batman to create transits\n",
    "ma = batman.TransitParams()\n",
    "ma.t0 = time[3]  # time of inferior conjunction; first transit is X days after start\n",
    "ma.per = 3.2# orbital period\n",
    "ma.rp = 0.1  # 1% dip planet radius (in units of stellar radii)\n",
    "ma.a = 8.47 # semi-major axis (in units of stellar radii)\n",
    "ma.inc = 90  # orbital inclination (in degrees)\n",
    "ma.ecc = 0  # eccentricity\n",
    "ma.w = 90  # longitude of periastron (in degrees)\n",
    "ma.u = []  # limb darkening coefficients\n",
    "ma.limb_dark = \"uniform\"  # limb darkening model\n",
    "m = batman.TransitModel(ma, time)  # initializes model\n",
    "synthetic_signal = m.light_curve(ma)  # calculates light curve\n",
    "\n",
    "# Sigma clip the data and then run the TLS search\n",
    "flux_transit = flux * synthetic_signal \n",
    "\n",
    "\n",
    "\n"
   ]
  },
  {
   "cell_type": "code",
   "execution_count": null,
   "metadata": {},
   "outputs": [],
   "source": [
    "np.linspace(tdur, 15, 4)"
   ]
  },
  {
   "cell_type": "code",
   "execution_count": null,
   "metadata": {},
   "outputs": [],
   "source": [
    "# Looping over the window_lengths written in hours and converted\n",
    "\n",
    "output = pd.DataFrame()\n",
    "\n",
    "for i in np.linspace(10, 15, 3): \n",
    "    w_length = i\n",
    "    \n",
    "    flatten_lc, trend_lc = flatten(\n",
    "        time,                 # Array of time values\n",
    "        flux_transit,                 # Array of flux values\n",
    "        method='lowess',\n",
    "        window_length = w_length ,    # The length of the filter window in units of ``time``\n",
    "        return_trend=True,    # Return trend and flattened light curve\n",
    "        )\n",
    "    \n",
    "    time_flatten, flatten_lc = cleaned_array(time, flatten_lc)\n",
    "        \n",
    "    flux_sigma_clipped = sigma_clip(flatten_lc, sigma_lower = float('inf'), sigma_upper= 4)\n",
    "    \n",
    "    model = transitleastsquares(time_flatten, flux_sigma_clipped)\n",
    "    results = model.power(period_min = 1, period_max = 10, limb_dark = 'linear', u =[0], use_threads = 60, oversampling_factor=1)\n",
    "    output = output.append(results, ignore_index = True)\n",
    "    "
   ]
  },
  {
   "cell_type": "code",
   "execution_count": 17,
   "metadata": {},
   "outputs": [
    {
     "data": {
      "text/plain": [
       "0    9.110858\n",
       "1    1.359919\n",
       "2    2.646031\n",
       "3    3.532298\n",
       "Name: period, dtype: float64"
      ]
     },
     "execution_count": 17,
     "metadata": {},
     "output_type": "execute_result"
    }
   ],
   "source": [
    "\n",
    "# model = transitleastsquares(time, flux_sigma_clipped)\n",
    "# results = model.power(period_min = 1, period_max = 10, limb_dark = 'linear', u =[0], use_threads = 4)\n",
    "   \n",
    "# results[\"obj_id\"] = obj_ids[object_num]\n",
    "\n",
    "output['period']"
   ]
  },
  {
   "cell_type": "code",
   "execution_count": 15,
   "metadata": {},
   "outputs": [
    {
     "data": {
      "text/plain": [
       "[<matplotlib.lines.Line2D at 0x7fcaf0dc03d0>]"
      ]
     },
     "execution_count": 15,
     "metadata": {},
     "output_type": "execute_result"
    },
    {
     "data": {
      "image/png": "[encoded data removed]",
      "text/plain": [
       "<Figure size 432x288 with 1 Axes>"
      ]
     },
     "metadata": {
      "needs_background": "light"
     },
     "output_type": "display_data"
    }
   ],
   "source": [
    "plt.plot(results.periods, results.power)\n"
   ]
  },
  {
   "cell_type": "code",
   "execution_count": null,
   "metadata": {},
   "outputs": [],
   "source": [
    "plt.scatter(time, flux)\n",
    "plt.scatter(time2, flux_sigma_clipped)\n"
   ]
  },
  {
   "cell_type": "code",
   "execution_count": 8,
   "metadata": {},
   "outputs": [
    {
     "name": "stdout",
     "output_type": "stream",
     "text": [
      "0.03090649287255764\n"
     ]
    }
   ],
   "source": [
    "from wotan import t14\n",
    "tdur = t14(R_s=0.006035778058140574, M_s=1.1701275239107334, P=9)\n",
    "print(tdur)"
   ]
  },
  {
   "cell_type": "code",
   "execution_count": null,
   "metadata": {},
   "outputs": [],
   "source": []
  }
 ],
 "metadata": {
  "kernelspec": {
   "display_name": "orion_jake",
   "language": "python",
   "name": "orion_jake"
  },
  "language_info": {
   "codemirror_mode": {
    "name": "ipython",
    "version": 3
   },
   "file_extension": ".py",
   "mimetype": "text/x-python",
   "name": "python",
   "nbconvert_exporter": "python",
   "pygments_lexer": "ipython3",
   "version": "3.7.8"
  }
 },
 "nbformat": 4,
 "nbformat_minor": 4
}
