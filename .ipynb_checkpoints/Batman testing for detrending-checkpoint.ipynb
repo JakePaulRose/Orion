{
 "cells": [
  {
   "cell_type": "code",
   "execution_count": null,
   "metadata": {},
   "outputs": [],
   "source": [
    "import numpy as np\n",
    "import matplotlib.pyplot as plt\n",
    "from wotan import flatten\n",
    "import batman"
   ]
  },
  {
   "cell_type": "code",
   "execution_count": null,
   "metadata": {},
   "outputs": [],
   "source": [
    "### Defining parameters of transit\n",
    "### We want hot jupiters. e.g. 10 days\n",
    "\n",
    "params = batman.TransitParams()\n",
    "params.t0 = 0.                       #time of inferior conjunction\n",
    "params.per = 5.                      #orbital period\n",
    "params.rp = 0.1                      #planet radius (in units of stellar radii)\n",
    "params.a = 15.                       #semi-major axis (in units of stellar radii)\n",
    "params.inc = 90.                     #orbital inclination (in degrees)\n",
    "params.ecc = 0.                      #eccentricity\n",
    "params.w = 90.                       #longitude of periastron (in degrees)\n",
    "params.u = []                #limb darkening coefficients [u1, u2]\n",
    "params.limb_dark = \"uniform\""
   ]
  },
  {
   "cell_type": "code",
   "execution_count": null,
   "metadata": {},
   "outputs": [],
   "source": [
    "# Making time\n",
    "time_start = 0\n",
    "data_duration = 300\n",
    "samples_per_day = 50\n",
    "samples = int(data_duration * samples_per_day)\n",
    "time = np.linspace(time_start, time_start + data_duration, samples)\n",
    "\n",
    "m = batman.TransitModel(params, time)    #initializes model\n",
    "flux = m.light_curve(params)\n",
    "\n",
    "\n",
    "\n",
    "# Create noise and merge with flux\n",
    "ppm = 2* 10**4 # Noise level in parts per million\n",
    "noise = np.random.normal(0, 10**-6 * ppm, int(samples))\n",
    "flux = flux + noise"
   ]
  },
  {
   "cell_type": "code",
   "execution_count": null,
   "metadata": {},
   "outputs": [],
   "source": [
    "%matplotlib notebook\n",
    "plt.plot(time, flux)\n",
    "plt.xlabel(\"Time\")\n",
    "plt.ylabel(\"Relative flux\")\n",
    "plt.show()\n"
   ]
  },
  {
   "cell_type": "code",
   "execution_count": null,
   "metadata": {},
   "outputs": [],
   "source": [
    "detrend = flatten(time, flux,\n",
    "        method='lowess',\n",
    "        window_length = 0.6,    # The length of the filter window in units of ``time``\n",
    "        break_tolerance = 0.3,    # Split into segments at breaks longer than that\n",
    "        return_trend=True,    # Return trend and flattened light curve\n",
    "        )"
   ]
  },
  {
   "cell_type": "code",
   "execution_count": null,
   "metadata": {},
   "outputs": [],
   "source": [
    "%matplotlib notebook\n",
    "plt.scatter(time, detrend[0])\n",
    "plt.scatter(time, flux)\n",
    "plt.xlabel(\"Time\")\n",
    "plt.ylabel(\"Relative flux\")\n",
    "plt.show()"
   ]
  }
 ],
 "metadata": {
  "kernelspec": {
   "display_name": "orion_jake",
   "language": "python",
   "name": "orion_jake"
  },
  "language_info": {
   "codemirror_mode": {
    "name": "ipython",
    "version": 3
   },
   "file_extension": ".py",
   "mimetype": "text/x-python",
   "name": "python",
   "nbconvert_exporter": "python",
   "pygments_lexer": "ipython3",
   "version": "3.7.8"
  }
 },
 "nbformat": 4,
 "nbformat_minor": 4
}
