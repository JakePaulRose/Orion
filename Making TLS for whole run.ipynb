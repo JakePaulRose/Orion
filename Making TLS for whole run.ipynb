{
 "cells": [
  {
   "cell_type": "code",
   "execution_count": 1,
   "metadata": {},
   "outputs": [],
   "source": [
    "import numpy as np\n",
    "import matplotlib.pyplot as plt\n",
    "from astropy.io import fits\n",
    "import time\n",
    "from astropy.stats import sigma_clip\n",
    "from transitleastsquares import (\n",
    "    transitleastsquares,\n",
    "    cleaned_array,\n",
    "    catalog_info,\n",
    "    transit_mask\n",
    "    )\n",
    "import pandas as pd\n",
    "from OrionPY import Tools\n",
    "\n"
   ]
  },
  {
   "cell_type": "code",
   "execution_count": 2,
   "metadata": {},
   "outputs": [
    {
     "name": "stderr",
     "output_type": "stream",
     "text": [
      "/home/jpr64/orion/Orion_main/OrionPY.py:71: RuntimeWarning: invalid value encountered in log10\n",
      "  self.mag = -2.5*np.log10(self.flux)\n"
     ]
    }
   ],
   "source": [
    "# Loading in the original data for obj_ids\n",
    "hdu = Tools()\n",
    "\n",
    "\n",
    "\n"
   ]
  },
  {
   "cell_type": "code",
   "execution_count": 3,
   "metadata": {},
   "outputs": [],
   "source": [
    "data = np.load('/data/jpr64/rebinned_data_test.npy', allow_pickle = True)\n",
    "lc = [x for x in data]\n",
    "obj_ids = [x for x in hdu.hdu[1].data['obj_id']]\n",
    "\n"
   ]
  },
  {
   "cell_type": "code",
   "execution_count": 4,
   "metadata": {},
   "outputs": [
    {
     "name": "stderr",
     "output_type": "stream",
     "text": [
      "/home/jpr64/.conda/envs/orion_jake/lib/python3.7/site-packages/numpy/core/_asarray.py:102: VisibleDeprecationWarning: Creating an ndarray from ragged nested sequences (which is a list-or-tuple of lists-or-tuples-or ndarrays with different lengths or shapes) is deprecated. If you meant to do this, you must specify 'dtype=object' when creating the ndarray.\n",
      "  return array(a, dtype, copy=False, order=order)\n",
      "/home/jpr64/.conda/envs/orion_jake/lib/python3.7/site-packages/ipykernel_launcher.py:5: RuntimeWarning: invalid value encountered in log10\n",
      "  \"\"\"\n",
      "/home/jpr64/.conda/envs/orion_jake/lib/python3.7/site-packages/ipykernel_launcher.py:6: RuntimeWarning: Mean of empty slice\n",
      "  \n"
     ]
    }
   ],
   "source": [
    "# Calculating magnitudes\n",
    "mean_mag = np.zeros(np.size(lc))\n",
    "\n",
    "for i, j in enumerate(lc):\n",
    "        magnitudes = -2.5 * np.log10(j[:,1]) + 20.2\n",
    "        mean_mag[i] = np.nanmean(magnitudes)\n",
    "        \n",
    "        \n",
    "        \n",
    "        \n",
    "        "
   ]
  },
  {
   "cell_type": "code",
   "execution_count": 5,
   "metadata": {},
   "outputs": [],
   "source": [
    "mag_min = 8.5\n",
    "mag_max = 15\n",
    "\n",
    "index_keep = np.where((mean_mag > mag_min) & (mean_mag< mag_max))\n",
    "\n"
   ]
  },
  {
   "cell_type": "code",
   "execution_count": 7,
   "metadata": {},
   "outputs": [],
   "source": [
    "# Keeping only stars with mags above 8.5 and below 15 for later comparison\n",
    "# index_keep = np.where((mean_mag > 8.5) & (mean_mag<15))\n",
    "index_keep = index_keep[0]\n",
    "\n",
    "lc  = [lc[x] for x in index_keep]\n",
    "obj_ids = [obj_ids[x] for x in index_keep]\n"
   ]
  },
  {
   "cell_type": "code",
   "execution_count": 8,
   "metadata": {},
   "outputs": [
    {
     "name": "stdout",
     "output_type": "stream",
     "text": [
      "Transit Least Squares TLS 1.0.26 (20 March 2021)\n"
     ]
    },
    {
     "name": "stderr",
     "output_type": "stream",
     "text": [
      "/home/jpr64/.conda/envs/orion_jake/lib/python3.7/site-packages/transitleastsquares/transit.py:157: VisibleDeprecationWarning: Creating an ndarray from ragged nested sequences (which is a list-or-tuple of lists-or-tuples-or ndarrays with different lengths or shapes) is deprecated. If you meant to do this, you must specify 'dtype=object' when creating the ndarray.\n",
      "  lc_arr = numpy.array(lc_arr)\n",
      "\r",
      "  0%|          | 0/10003 periods | 00:00<?"
     ]
    },
    {
     "name": "stdout",
     "output_type": "stream",
     "text": [
      "Creating model cache for 36 durations\n",
      "Searching 3937 data points, 10003 periods from 1.0 to 10.997 days\n",
      "Using 40 of 64 CPU threads\n"
     ]
    },
    {
     "name": "stderr",
     "output_type": "stream",
     "text": [
      "100%|██████████| 10003/10003 periods | 00:34<00:00\n",
      "/home/jpr64/.conda/envs/orion_jake/lib/python3.7/site-packages/numpy/core/_methods.py:262: RuntimeWarning: Degrees of freedom <= 0 for slice\n",
      "  keepdims=keepdims, where=where)\n",
      "/home/jpr64/.conda/envs/orion_jake/lib/python3.7/site-packages/numpy/core/_methods.py:222: RuntimeWarning: invalid value encountered in true_divide\n",
      "  subok=False)\n",
      "/home/jpr64/.conda/envs/orion_jake/lib/python3.7/site-packages/numpy/core/_methods.py:253: RuntimeWarning: invalid value encountered in double_scalars\n",
      "  ret = ret.dtype.type(ret / rcount)\n",
      "/home/jpr64/.conda/envs/orion_jake/lib/python3.7/site-packages/transitleastsquares/main.py:404: UserWarning: 63 of 76 transits without data. The true period may be twice the given period.\n",
      "  warnings.warn(text)\n",
      "/home/jpr64/.conda/envs/orion_jake/lib/python3.7/site-packages/transitleastsquares/transit.py:157: VisibleDeprecationWarning: Creating an ndarray from ragged nested sequences (which is a list-or-tuple of lists-or-tuples-or ndarrays with different lengths or shapes) is deprecated. If you meant to do this, you must specify 'dtype=object' when creating the ndarray.\n",
      "  lc_arr = numpy.array(lc_arr)\n",
      "  0%|          | 0/10524 periods | 00:00<?"
     ]
    },
    {
     "name": "stdout",
     "output_type": "stream",
     "text": [
      "Transit Least Squares TLS 1.0.26 (20 March 2021)\n",
      "Creating model cache for 36 durations\n",
      "Searching 4006 data points, 10524 periods from 1.0 to 10.998 days\n",
      "Using 40 of 64 CPU threads\n"
     ]
    },
    {
     "name": "stderr",
     "output_type": "stream",
     "text": [
      "100%|██████████| 10524/10524 periods | 00:31<00:00\n",
      "/home/jpr64/.conda/envs/orion_jake/lib/python3.7/site-packages/numpy/core/_methods.py:262: RuntimeWarning: Degrees of freedom <= 0 for slice\n",
      "  keepdims=keepdims, where=where)\n",
      "/home/jpr64/.conda/envs/orion_jake/lib/python3.7/site-packages/numpy/core/_methods.py:222: RuntimeWarning: invalid value encountered in true_divide\n",
      "  subok=False)\n",
      "/home/jpr64/.conda/envs/orion_jake/lib/python3.7/site-packages/numpy/core/_methods.py:253: RuntimeWarning: invalid value encountered in double_scalars\n",
      "  ret = ret.dtype.type(ret / rcount)\n",
      "/home/jpr64/.conda/envs/orion_jake/lib/python3.7/site-packages/transitleastsquares/main.py:404: UserWarning: 49 of 59 transits without data. The true period may be twice the given period.\n",
      "  warnings.warn(text)\n"
     ]
    }
   ],
   "source": [
    "output = pd.DataFrame()\n",
    "\n",
    "###\n",
    "for i, j in enumerate(lc):\n",
    "    if i == 3: break\n",
    "    time, flux = cleaned_array(j[:,0], j[:,1])\n",
    "    flux /= np.nanmean(flux)\n",
    "    sigma_clipped = sigma_clip(flux, sigma_lower = float('inf'), sigma_upper= 4)\n",
    "    \n",
    "    if np.size(time) < 100: continue # TLS fails if the array only has a few values in it. Anything less than 100 wouldn't be useful anyway.  \n",
    "   \n",
    "    model = transitleastsquares(time, flux)\n",
    "    results = model.power(period_min = 1, period_max = 11, use_threads = 40)\n",
    "    \n",
    "    results[\"obj_id\"] = obj_ids[i]\n",
    "    output = output.append(results, ignore_index=True)\n",
    "   \n",
    "    \n",
    "    \n",
    "    \n",
    "    "
   ]
  },
  {
   "cell_type": "code",
   "execution_count": 14,
   "metadata": {},
   "outputs": [],
   "source": [
    "output.to_pickle('/data/jpr64/output_test.pkl')"
   ]
  },
  {
   "cell_type": "code",
   "execution_count": 15,
   "metadata": {},
   "outputs": [],
   "source": [
    "reading = pd.read_pickle('/data/jpr64/output_test.pkl')"
   ]
  },
  {
   "cell_type": "code",
   "execution_count": 16,
   "metadata": {},
   "outputs": [
    {
     "data": {
      "text/html": [
       "<div>\n",
       "<style scoped>\n",
       "    .dataframe tbody tr th:only-of-type {\n",
       "        vertical-align: middle;\n",
       "    }\n",
       "\n",
       "    .dataframe tbody tr th {\n",
       "        vertical-align: top;\n",
       "    }\n",
       "\n",
       "    .dataframe thead th {\n",
       "        text-align: right;\n",
       "    }\n",
       "</style>\n",
       "<table border=\"1\" class=\"dataframe\">\n",
       "  <thead>\n",
       "    <tr style=\"text-align: right;\">\n",
       "      <th></th>\n",
       "      <th>FAP</th>\n",
       "      <th>SDE</th>\n",
       "      <th>SDE_raw</th>\n",
       "      <th>SR</th>\n",
       "      <th>T0</th>\n",
       "      <th>after_transit_count</th>\n",
       "      <th>before_transit_count</th>\n",
       "      <th>chi2</th>\n",
       "      <th>chi2_min</th>\n",
       "      <th>chi2red</th>\n",
       "      <th>...</th>\n",
       "      <th>power</th>\n",
       "      <th>power_raw</th>\n",
       "      <th>rp_rs</th>\n",
       "      <th>snr</th>\n",
       "      <th>snr_per_transit</th>\n",
       "      <th>snr_pink_per_transit</th>\n",
       "      <th>transit_count</th>\n",
       "      <th>transit_depths</th>\n",
       "      <th>transit_depths_uncertainties</th>\n",
       "      <th>transit_times</th>\n",
       "    </tr>\n",
       "  </thead>\n",
       "  <tbody>\n",
       "    <tr>\n",
       "      <th>0</th>\n",
       "      <td>0.006483</td>\n",
       "      <td>7.225084</td>\n",
       "      <td>6.108805</td>\n",
       "      <td>[0.9372557276073122, 0.9370453250040619, 0.939...</td>\n",
       "      <td>1333.190249</td>\n",
       "      <td>72.0</td>\n",
       "      <td>70.0</td>\n",
       "      <td>[3873.387851420103, 3874.25757550451, 3865.484...</td>\n",
       "      <td>3630.354949</td>\n",
       "      <td>[0.9848430845207482, 0.9850642195536512, 0.982...</td>\n",
       "      <td>...</td>\n",
       "      <td>[-2.1867212889782732, -2.2195713355777693, -1....</td>\n",
       "      <td>[-0.15036530260519937, -0.17135440176540068, 0...</td>\n",
       "      <td>0.065237</td>\n",
       "      <td>7.888991</td>\n",
       "      <td>[0.0, 0.0, 0.0, 0.0, 0.0, 0.0, 0.0, 0.0, 0.0, ...</td>\n",
       "      <td>[0.0, 0.0, 0.0, 0.0, 0.0, 0.0, 0.0, 0.0, 0.0, ...</td>\n",
       "      <td>76.0</td>\n",
       "      <td>[nan, nan, nan, nan, nan, nan, nan, nan, nan, ...</td>\n",
       "      <td>[nan, nan, nan, nan, nan, nan, nan, nan, nan, ...</td>\n",
       "      <td>[1333.1902485072694, 1335.2043313835738, 1337....</td>\n",
       "    </tr>\n",
       "    <tr>\n",
       "      <th>1</th>\n",
       "      <td>0.012485</td>\n",
       "      <td>6.833969</td>\n",
       "      <td>5.044323</td>\n",
       "      <td>[0.9553377545321289, 0.9551311944205402, 0.954...</td>\n",
       "      <td>1326.724024</td>\n",
       "      <td>31.0</td>\n",
       "      <td>39.0</td>\n",
       "      <td>[3909.884546241071, 3910.7301119527638, 3912.1...</td>\n",
       "      <td>3735.260323</td>\n",
       "      <td>[0.9769826452376489, 0.9771939310226796, 0.977...</td>\n",
       "      <td>...</td>\n",
       "      <td>[-0.8095679941001539, -0.8398097012676873, -0....</td>\n",
       "      <td>[0.5007235587064709, 0.4797096951321366, 0.444...</td>\n",
       "      <td>0.177596</td>\n",
       "      <td>7.300697</td>\n",
       "      <td>[0.0, 2.386560939237457, 0.0, 0.0, 0.0, 0.0, 0...</td>\n",
       "      <td>[0.0, nan, 0.0, 0.0, 0.0, 0.0, 0.0, 0.0, 0.0, ...</td>\n",
       "      <td>59.0</td>\n",
       "      <td>[nan, 0.9445661246520263, nan, nan, nan, nan, ...</td>\n",
       "      <td>[nan, 0.01793650580633996, nan, nan, nan, nan,...</td>\n",
       "      <td>[1326.7240240195697, 1329.4146120429407, 1332....</td>\n",
       "    </tr>\n",
       "  </tbody>\n",
       "</table>\n",
       "<p>2 rows × 42 columns</p>\n",
       "</div>"
      ],
      "text/plain": [
       "        FAP       SDE   SDE_raw  \\\n",
       "0  0.006483  7.225084  6.108805   \n",
       "1  0.012485  6.833969  5.044323   \n",
       "\n",
       "                                                  SR           T0  \\\n",
       "0  [0.9372557276073122, 0.9370453250040619, 0.939...  1333.190249   \n",
       "1  [0.9553377545321289, 0.9551311944205402, 0.954...  1326.724024   \n",
       "\n",
       "   after_transit_count  before_transit_count  \\\n",
       "0                 72.0                  70.0   \n",
       "1                 31.0                  39.0   \n",
       "\n",
       "                                                chi2     chi2_min  \\\n",
       "0  [3873.387851420103, 3874.25757550451, 3865.484...  3630.354949   \n",
       "1  [3909.884546241071, 3910.7301119527638, 3912.1...  3735.260323   \n",
       "\n",
       "                                             chi2red  ...  \\\n",
       "0  [0.9848430845207482, 0.9850642195536512, 0.982...  ...   \n",
       "1  [0.9769826452376489, 0.9771939310226796, 0.977...  ...   \n",
       "\n",
       "                                               power  \\\n",
       "0  [-2.1867212889782732, -2.2195713355777693, -1....   \n",
       "1  [-0.8095679941001539, -0.8398097012676873, -0....   \n",
       "\n",
       "                                           power_raw     rp_rs       snr  \\\n",
       "0  [-0.15036530260519937, -0.17135440176540068, 0...  0.065237  7.888991   \n",
       "1  [0.5007235587064709, 0.4797096951321366, 0.444...  0.177596  7.300697   \n",
       "\n",
       "                                     snr_per_transit  \\\n",
       "0  [0.0, 0.0, 0.0, 0.0, 0.0, 0.0, 0.0, 0.0, 0.0, ...   \n",
       "1  [0.0, 2.386560939237457, 0.0, 0.0, 0.0, 0.0, 0...   \n",
       "\n",
       "                                snr_pink_per_transit  transit_count  \\\n",
       "0  [0.0, 0.0, 0.0, 0.0, 0.0, 0.0, 0.0, 0.0, 0.0, ...           76.0   \n",
       "1  [0.0, nan, 0.0, 0.0, 0.0, 0.0, 0.0, 0.0, 0.0, ...           59.0   \n",
       "\n",
       "                                      transit_depths  \\\n",
       "0  [nan, nan, nan, nan, nan, nan, nan, nan, nan, ...   \n",
       "1  [nan, 0.9445661246520263, nan, nan, nan, nan, ...   \n",
       "\n",
       "                        transit_depths_uncertainties  \\\n",
       "0  [nan, nan, nan, nan, nan, nan, nan, nan, nan, ...   \n",
       "1  [nan, 0.01793650580633996, nan, nan, nan, nan,...   \n",
       "\n",
       "                                       transit_times  \n",
       "0  [1333.1902485072694, 1335.2043313835738, 1337....  \n",
       "1  [1326.7240240195697, 1329.4146120429407, 1332....  \n",
       "\n",
       "[2 rows x 42 columns]"
      ]
     },
     "execution_count": 16,
     "metadata": {},
     "output_type": "execute_result"
    }
   ],
   "source": []
  },
  {
   "cell_type": "raw",
   "metadata": {},
   "source": []
  }
 ],
 "metadata": {
  "kernelspec": {
   "display_name": "orion_jake",
   "language": "python",
   "name": "orion_jake"
  },
  "language_info": {
   "codemirror_mode": {
    "name": "ipython",
    "version": 3
   },
   "file_extension": ".py",
   "mimetype": "text/x-python",
   "name": "python",
   "nbconvert_exporter": "python",
   "pygments_lexer": "ipython3",
   "version": "3.7.8"
  }
 },
 "nbformat": 4,
 "nbformat_minor": 4
}
